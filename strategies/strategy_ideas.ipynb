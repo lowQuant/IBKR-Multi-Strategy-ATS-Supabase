{
 "cells": [
  {
   "cell_type": "markdown",
   "metadata": {},
   "source": [
    "# Collection of possible strategies"
   ]
  },
  {
   "cell_type": "markdown",
   "metadata": {},
   "source": [
    "##### Strategy1: Buy & Hold (BH)\n",
    "---\n",
    "        This strategy invests in a broad equity index (ETF) like MSCI ACWI (30%) and in US treasury rate futures (90%) being effectively net long 120%. We will rebalance every quarter when the strategy rolls the US treasury future.\n",
    "---\n",
    "Intended weight: 30%\n",
    "\n",
    "Thoughts\n",
    "-  need for a currency mgmt via EUR/USD future? Probably not, with a EUR denoted ETF and with USD Treasury Future we will have min. FX exposure\n",
    "-  rebalance quarterly (whenever rolling the treasury rate future)\n",
    "-  go out of equities if MSCI ACWI price drops below its 10M SMA at the end of a months. Enter again if price > 10M SMA"
   ]
  },
  {
   "cell_type": "code",
   "execution_count": null,
   "metadata": {},
   "outputs": [],
   "source": []
  },
  {
   "cell_type": "markdown",
   "metadata": {},
   "source": [
    "##### Strategy2: Sector Timing ETF Strategy (STE)\n",
    "---\n",
    "        Buy only sectors that show relative strength\n",
    "---\n",
    "Intended weight: 20%\n",
    "\n",
    "\n",
    "TODO:\n",
    "- find a suitable universe for MIFID ETFs\n",
    "- backtest a buy/sell engine"
   ]
  },
  {
   "cell_type": "code",
   "execution_count": null,
   "metadata": {},
   "outputs": [],
   "source": []
  },
  {
   "cell_type": "markdown",
   "metadata": {},
   "source": [
    "##### Strategy3: Volatility Risk Premium Strategy (VRP) \n",
    "        Compares realized volatility with implied volatility. \n",
    "        If VRP is positive and VIX Index level is not too small (say 12), \n",
    "        we go short the VIX future to harness the volatility risk premium\n",
    "\n",
    "Thoughts\n",
    "-  VIX Spike insurance with deep otm calls on VIX Index or a VIX ETF\n",
    "-  only sell VIX future if VIX futures are traded in contango \n",
    "-  if VIX level <14 sell 3rd month of VIX future"
   ]
  },
  {
   "cell_type": "code",
   "execution_count": null,
   "metadata": {},
   "outputs": [],
   "source": []
  },
  {
   "cell_type": "markdown",
   "metadata": {},
   "source": [
    "##### Strategy4: Curve Trading (CT)\n",
    "        Curve Trading Strategy\n"
   ]
  },
  {
   "cell_type": "code",
   "execution_count": null,
   "metadata": {},
   "outputs": [],
   "source": []
  },
  {
   "cell_type": "markdown",
   "metadata": {},
   "source": [
    "##### Strategy5: Select basket of uncorrelated futures in trend (TF)\n",
    "        Diversified Trend Following Strategy\n"
   ]
  },
  {
   "cell_type": "code",
   "execution_count": null,
   "metadata": {},
   "outputs": [],
   "source": []
  }
 ],
 "metadata": {
  "kernelspec": {
   "display_name": "Python 3.10.5 ('venv': venv)",
   "language": "python",
   "name": "python3"
  },
  "language_info": {
   "name": "python",
   "version": "3.10.5"
  },
  "vscode": {
   "interpreter": {
    "hash": "d98b9c35002053a9c65675e127a2a171e33f22693a47f4b07ce8f10cc81a8c4b"
   }
  }
 },
 "nbformat": 4,
 "nbformat_minor": 2
}
